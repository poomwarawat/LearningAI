{
 "cells": [
  {
   "cell_type": "code",
   "execution_count": 1,
   "metadata": {},
   "outputs": [],
   "source": [
    "import numpy as np\n",
    "import matplotlib.pyplot as plt \n",
    "import pandas as pd"
   ]
  },
  {
   "cell_type": "code",
   "execution_count": 2,
   "metadata": {},
   "outputs": [],
   "source": [
    "ds = pd.read_csv(\"data/Churn_Modelling.csv\")"
   ]
  },
  {
   "cell_type": "code",
   "execution_count": 37,
   "metadata": {},
   "outputs": [],
   "source": [
    "x = ds.iloc[:, 3:13].values\n",
    "y = ds.iloc[:, 13].values"
   ]
  },
  {
   "cell_type": "code",
   "execution_count": 5,
   "metadata": {},
   "outputs": [],
   "source": [
    "from sklearn.preprocessing import LabelEncoder, OneHotEncoder"
   ]
  },
  {
   "cell_type": "code",
   "execution_count": 38,
   "metadata": {},
   "outputs": [],
   "source": [
    "label_x = LabelEncoder()\n",
    "\n",
    "x[:, 1] = label_x.fit_transform(x[:, 1])\n",
    "\n",
    "label_x2 = LabelEncoder()\n",
    "x[:, 2] = label_x.fit_transform(x[:, 2])"
   ]
  },
  {
   "cell_type": "code",
   "execution_count": 9,
   "metadata": {},
   "outputs": [
    {
     "data": {
      "text/plain": [
       "array([[619, 0, 0, ..., 1, 1, 101348.88],\n",
       "       [608, 2, 0, ..., 0, 1, 112542.58],\n",
       "       [502, 0, 0, ..., 1, 0, 113931.57],\n",
       "       ...,\n",
       "       [709, 0, 0, ..., 0, 1, 42085.58],\n",
       "       [772, 1, 1, ..., 1, 0, 92888.52],\n",
       "       [792, 0, 0, ..., 1, 0, 38190.78]], dtype=object)"
      ]
     },
     "execution_count": 9,
     "metadata": {},
     "output_type": "execute_result"
    }
   ],
   "source": [
    "x"
   ]
  },
  {
   "cell_type": "code",
   "execution_count": 10,
   "metadata": {},
   "outputs": [
    {
     "name": "stderr",
     "output_type": "stream",
     "text": [
      "/Users/poomwarawat/opt/anaconda3/lib/python3.7/site-packages/sklearn/preprocessing/_encoders.py:415: FutureWarning: The handling of integer data will change in version 0.22. Currently, the categories are determined based on the range [0, max(values)], while in the future they will be determined based on the unique values.\n",
      "If you want the future behaviour and silence this warning, you can specify \"categories='auto'\".\n",
      "In case you used a LabelEncoder before this OneHotEncoder to convert the categories to integers, then you can now use the OneHotEncoder directly.\n",
      "  warnings.warn(msg, FutureWarning)\n",
      "/Users/poomwarawat/opt/anaconda3/lib/python3.7/site-packages/sklearn/preprocessing/_encoders.py:451: DeprecationWarning: The 'categorical_features' keyword is deprecated in version 0.20 and will be removed in 0.22. You can use the ColumnTransformer instead.\n",
      "  \"use the ColumnTransformer instead.\", DeprecationWarning)\n"
     ]
    }
   ],
   "source": [
    "onehotEncoder = OneHotEncoder(categorical_features = [1])\n",
    "x = onehotEncoder.fit_transform(x).toarray()\n",
    "x = x[:, 1:]"
   ]
  },
  {
   "cell_type": "code",
   "execution_count": 11,
   "metadata": {},
   "outputs": [],
   "source": [
    "from sklearn.model_selection import train_test_split"
   ]
  },
  {
   "cell_type": "code",
   "execution_count": 12,
   "metadata": {},
   "outputs": [],
   "source": [
    "x_train, x_test, y_train, y_test = train_test_split(x, y, test_size=0.2, random_state=0)"
   ]
  },
  {
   "cell_type": "code",
   "execution_count": 13,
   "metadata": {},
   "outputs": [],
   "source": [
    "from sklearn.preprocessing import StandardScaler"
   ]
  },
  {
   "cell_type": "code",
   "execution_count": 14,
   "metadata": {},
   "outputs": [],
   "source": [
    "sc = StandardScaler()"
   ]
  },
  {
   "cell_type": "code",
   "execution_count": 15,
   "metadata": {},
   "outputs": [],
   "source": [
    "x_train = sc.fit_transform(x_train)"
   ]
  },
  {
   "cell_type": "code",
   "execution_count": 16,
   "metadata": {},
   "outputs": [],
   "source": [
    "x_test = sc.transform(x_test)"
   ]
  },
  {
   "cell_type": "code",
   "execution_count": 17,
   "metadata": {},
   "outputs": [
    {
     "name": "stderr",
     "output_type": "stream",
     "text": [
      "Using TensorFlow backend.\n"
     ]
    }
   ],
   "source": [
    "import keras"
   ]
  },
  {
   "cell_type": "code",
   "execution_count": 18,
   "metadata": {},
   "outputs": [],
   "source": [
    "from keras.models import Sequential\n",
    "from keras.layers import Dense"
   ]
  },
  {
   "cell_type": "markdown",
   "metadata": {},
   "source": [
    "# Init Classifier"
   ]
  },
  {
   "cell_type": "code",
   "execution_count": 21,
   "metadata": {},
   "outputs": [],
   "source": [
    "classifier = Sequential()"
   ]
  },
  {
   "cell_type": "markdown",
   "metadata": {},
   "source": [
    "# Add The Input Layer and Hidden Layer"
   ]
  },
  {
   "cell_type": "code",
   "execution_count": 22,
   "metadata": {},
   "outputs": [
    {
     "name": "stderr",
     "output_type": "stream",
     "text": [
      "/Users/poomwarawat/opt/anaconda3/lib/python3.7/site-packages/ipykernel_launcher.py:1: UserWarning: Update your `Dense` call to the Keras 2 API: `Dense(activation=\"relu\", input_dim=11, units=6, kernel_initializer=\"uniform\")`\n",
      "  \"\"\"Entry point for launching an IPython kernel.\n"
     ]
    }
   ],
   "source": [
    "classifier.add(Dense(output_dim = 6, init = 'uniform', activation = 'relu', input_dim = 11))"
   ]
  },
  {
   "cell_type": "code",
   "execution_count": 23,
   "metadata": {},
   "outputs": [
    {
     "name": "stderr",
     "output_type": "stream",
     "text": [
      "/Users/poomwarawat/opt/anaconda3/lib/python3.7/site-packages/ipykernel_launcher.py:1: UserWarning: Update your `Dense` call to the Keras 2 API: `Dense(activation=\"relu\", units=6, kernel_initializer=\"uniform\")`\n",
      "  \"\"\"Entry point for launching an IPython kernel.\n"
     ]
    }
   ],
   "source": [
    "classifier.add(Dense(output_dim = 6, init = 'uniform', activation = 'relu'))"
   ]
  },
  {
   "cell_type": "code",
   "execution_count": 24,
   "metadata": {},
   "outputs": [
    {
     "name": "stderr",
     "output_type": "stream",
     "text": [
      "/Users/poomwarawat/opt/anaconda3/lib/python3.7/site-packages/ipykernel_launcher.py:1: UserWarning: Update your `Dense` call to the Keras 2 API: `Dense(activation=\"sigmoid\", units=1, kernel_initializer=\"uniform\")`\n",
      "  \"\"\"Entry point for launching an IPython kernel.\n"
     ]
    }
   ],
   "source": [
    "classifier.add(Dense(output_dim = 1, init = 'uniform', activation = 'sigmoid'))"
   ]
  },
  {
   "cell_type": "markdown",
   "metadata": {},
   "source": [
    "# Compile The ANN"
   ]
  },
  {
   "cell_type": "code",
   "execution_count": 25,
   "metadata": {},
   "outputs": [],
   "source": [
    "classifier.compile(optimizer = 'adam', loss = 'binary_crossentropy', metrics = ['accuracy'])"
   ]
  },
  {
   "cell_type": "markdown",
   "metadata": {},
   "source": [
    "# Fitting ANN to the Training set"
   ]
  },
  {
   "cell_type": "code",
   "execution_count": 26,
   "metadata": {},
   "outputs": [
    {
     "name": "stderr",
     "output_type": "stream",
     "text": [
      "/Users/poomwarawat/opt/anaconda3/lib/python3.7/site-packages/ipykernel_launcher.py:1: UserWarning: The `nb_epoch` argument in `fit` has been renamed `epochs`.\n",
      "  \"\"\"Entry point for launching an IPython kernel.\n"
     ]
    },
    {
     "name": "stdout",
     "output_type": "stream",
     "text": [
      "Epoch 1/100\n",
      "8000/8000 [==============================] - 3s 313us/step - loss: 0.4839 - accuracy: 0.7956\n",
      "Epoch 2/100\n",
      "8000/8000 [==============================] - 1s 174us/step - loss: 0.4256 - accuracy: 0.7960\n",
      "Epoch 3/100\n",
      "8000/8000 [==============================] - 1s 176us/step - loss: 0.4193 - accuracy: 0.8077\n",
      "Epoch 4/100\n",
      "8000/8000 [==============================] - 1s 174us/step - loss: 0.4164 - accuracy: 0.8288\n",
      "Epoch 5/100\n",
      "8000/8000 [==============================] - 1s 180us/step - loss: 0.4139 - accuracy: 0.8294\n",
      "Epoch 6/100\n",
      "8000/8000 [==============================] - 1s 172us/step - loss: 0.4121 - accuracy: 0.8313\n",
      "Epoch 7/100\n",
      "8000/8000 [==============================] - 1s 176us/step - loss: 0.4108 - accuracy: 0.8315\n",
      "Epoch 8/100\n",
      "8000/8000 [==============================] - 2s 240us/step - loss: 0.4099 - accuracy: 0.8321\n",
      "Epoch 9/100\n",
      "8000/8000 [==============================] - 2s 234us/step - loss: 0.4089 - accuracy: 0.8339\n",
      "Epoch 10/100\n",
      "8000/8000 [==============================] - 2s 192us/step - loss: 0.4085 - accuracy: 0.8338\n",
      "Epoch 11/100\n",
      "8000/8000 [==============================] - 1s 185us/step - loss: 0.4075 - accuracy: 0.8342\n",
      "Epoch 12/100\n",
      "8000/8000 [==============================] - 2s 191us/step - loss: 0.4066 - accuracy: 0.8340\n",
      "Epoch 13/100\n",
      "8000/8000 [==============================] - 2s 191us/step - loss: 0.4061 - accuracy: 0.8360\n",
      "Epoch 14/100\n",
      "8000/8000 [==============================] - 2s 238us/step - loss: 0.4058 - accuracy: 0.8329\n",
      "Epoch 15/100\n",
      "8000/8000 [==============================] - 2s 188us/step - loss: 0.4053 - accuracy: 0.8340\n",
      "Epoch 16/100\n",
      "8000/8000 [==============================] - 2s 189us/step - loss: 0.4052 - accuracy: 0.8363\n",
      "Epoch 17/100\n",
      "8000/8000 [==============================] - 2s 192us/step - loss: 0.4048 - accuracy: 0.8340\n",
      "Epoch 18/100\n",
      "8000/8000 [==============================] - 1s 183us/step - loss: 0.4043 - accuracy: 0.8344\n",
      "Epoch 19/100\n",
      "8000/8000 [==============================] - 2s 194us/step - loss: 0.4038 - accuracy: 0.8329\n",
      "Epoch 20/100\n",
      "8000/8000 [==============================] - 2s 216us/step - loss: 0.4038 - accuracy: 0.8354\n",
      "Epoch 21/100\n",
      "8000/8000 [==============================] - 2s 225us/step - loss: 0.4037 - accuracy: 0.8356\n",
      "Epoch 22/100\n",
      "8000/8000 [==============================] - 2s 195us/step - loss: 0.4034 - accuracy: 0.8347\n",
      "Epoch 23/100\n",
      "8000/8000 [==============================] - 2s 193us/step - loss: 0.4031 - accuracy: 0.8359\n",
      "Epoch 24/100\n",
      "8000/8000 [==============================] - 2s 188us/step - loss: 0.4033 - accuracy: 0.8341\n",
      "Epoch 25/100\n",
      "8000/8000 [==============================] - 2s 188us/step - loss: 0.4029 - accuracy: 0.8334\n",
      "Epoch 26/100\n",
      "8000/8000 [==============================] - 2s 193us/step - loss: 0.4030 - accuracy: 0.8357\n",
      "Epoch 27/100\n",
      "8000/8000 [==============================] - 2s 298us/step - loss: 0.4029 - accuracy: 0.8344\n",
      "Epoch 28/100\n",
      "8000/8000 [==============================] - 2s 278us/step - loss: 0.4025 - accuracy: 0.8339\n",
      "Epoch 29/100\n",
      "8000/8000 [==============================] - 2s 225us/step - loss: 0.4025 - accuracy: 0.8349\n",
      "Epoch 30/100\n",
      "8000/8000 [==============================] - 2s 194us/step - loss: 0.4025 - accuracy: 0.8339\n",
      "Epoch 31/100\n",
      "8000/8000 [==============================] - 2s 192us/step - loss: 0.4020 - accuracy: 0.8338\n",
      "Epoch 32/100\n",
      "8000/8000 [==============================] - 2s 202us/step - loss: 0.4020 - accuracy: 0.8344\n",
      "Epoch 33/100\n",
      " 550/8000 [=>............................] - ETA: 4s - loss: 0.3630 - accuracy: 0.8509"
     ]
    },
    {
     "name": "stderr",
     "output_type": "stream",
     "text": [
      "/Users/poomwarawat/opt/anaconda3/lib/python3.7/site-packages/keras/callbacks/callbacks.py:95: RuntimeWarning: Method (on_train_batch_end) is slow compared to the batch update (0.113346). Check your callbacks.\n",
      "  % (hook_name, delta_t_median), RuntimeWarning)\n"
     ]
    },
    {
     "name": "stdout",
     "output_type": "stream",
     "text": [
      "8000/8000 [==============================] - 2s 218us/step - loss: 0.4014 - accuracy: 0.8334\n",
      "Epoch 34/100\n",
      "8000/8000 [==============================] - 1s 163us/step - loss: 0.4019 - accuracy: 0.8345\n",
      "Epoch 35/100\n",
      "8000/8000 [==============================] - 1s 163us/step - loss: 0.4019 - accuracy: 0.8347\n",
      "Epoch 36/100\n",
      "8000/8000 [==============================] - 1s 160us/step - loss: 0.4019 - accuracy: 0.8326\n",
      "Epoch 37/100\n",
      "8000/8000 [==============================] - 1s 176us/step - loss: 0.4016 - accuracy: 0.8356\n",
      "Epoch 38/100\n",
      "8000/8000 [==============================] - 2s 213us/step - loss: 0.4015 - accuracy: 0.8347\n",
      "Epoch 39/100\n",
      "8000/8000 [==============================] - 1s 183us/step - loss: 0.4014 - accuracy: 0.8346\n",
      "Epoch 40/100\n",
      "8000/8000 [==============================] - 2s 238us/step - loss: 0.4017 - accuracy: 0.8353\n",
      "Epoch 41/100\n",
      "8000/8000 [==============================] - 1s 183us/step - loss: 0.4012 - accuracy: 0.8366\n",
      "Epoch 42/100\n",
      "8000/8000 [==============================] - 1s 182us/step - loss: 0.4011 - accuracy: 0.8344\n",
      "Epoch 43/100\n",
      "8000/8000 [==============================] - 1s 179us/step - loss: 0.4012 - accuracy: 0.8360\n",
      "Epoch 44/100\n",
      "8000/8000 [==============================] - 2s 188us/step - loss: 0.4006 - accuracy: 0.8346\n",
      "Epoch 45/100\n",
      "8000/8000 [==============================] - 1s 186us/step - loss: 0.4015 - accuracy: 0.8359\n",
      "Epoch 46/100\n",
      "8000/8000 [==============================] - 2s 206us/step - loss: 0.4006 - accuracy: 0.8353\n",
      "Epoch 47/100\n",
      "8000/8000 [==============================] - 2s 230us/step - loss: 0.4004 - accuracy: 0.8354\n",
      "Epoch 48/100\n",
      "8000/8000 [==============================] - 1s 170us/step - loss: 0.4010 - accuracy: 0.83340s - l\n",
      "Epoch 49/100\n",
      "8000/8000 [==============================] - 1s 162us/step - loss: 0.4011 - accuracy: 0.8359\n",
      "Epoch 50/100\n",
      "8000/8000 [==============================] - 1s 178us/step - loss: 0.4008 - accuracy: 0.8338\n",
      "Epoch 51/100\n",
      "8000/8000 [==============================] - 1s 167us/step - loss: 0.4004 - accuracy: 0.8346\n",
      "Epoch 52/100\n",
      "8000/8000 [==============================] - 1s 160us/step - loss: 0.4002 - accuracy: 0.8341\n",
      "Epoch 53/100\n",
      "8000/8000 [==============================] - 1s 173us/step - loss: 0.4009 - accuracy: 0.8359\n",
      "Epoch 54/100\n",
      "8000/8000 [==============================] - 2s 189us/step - loss: 0.4003 - accuracy: 0.8363\n",
      "Epoch 55/100\n",
      "8000/8000 [==============================] - 1s 157us/step - loss: 0.4007 - accuracy: 0.8363\n",
      "Epoch 56/100\n",
      "8000/8000 [==============================] - 1s 163us/step - loss: 0.4005 - accuracy: 0.8357\n",
      "Epoch 57/100\n",
      "8000/8000 [==============================] - 1s 157us/step - loss: 0.4009 - accuracy: 0.8341\n",
      "Epoch 58/100\n",
      "8000/8000 [==============================] - 1s 168us/step - loss: 0.4004 - accuracy: 0.8349\n",
      "Epoch 59/100\n",
      "8000/8000 [==============================] - 1s 168us/step - loss: 0.4009 - accuracy: 0.8353\n",
      "Epoch 60/100\n",
      "8000/8000 [==============================] - 1s 160us/step - loss: 0.4006 - accuracy: 0.8353\n",
      "Epoch 61/100\n",
      "8000/8000 [==============================] - 2s 209us/step - loss: 0.4006 - accuracy: 0.8355\n",
      "Epoch 62/100\n",
      "8000/8000 [==============================] - 1s 166us/step - loss: 0.4005 - accuracy: 0.8355\n",
      "Epoch 63/100\n",
      "8000/8000 [==============================] - 1s 161us/step - loss: 0.3996 - accuracy: 0.8349\n",
      "Epoch 64/100\n",
      "8000/8000 [==============================] - 1s 164us/step - loss: 0.4003 - accuracy: 0.8347\n",
      "Epoch 65/100\n",
      "8000/8000 [==============================] - 1s 172us/step - loss: 0.3999 - accuracy: 0.8341\n",
      "Epoch 66/100\n",
      "8000/8000 [==============================] - 1s 175us/step - loss: 0.4003 - accuracy: 0.8375\n",
      "Epoch 67/100\n",
      "8000/8000 [==============================] - 1s 178us/step - loss: 0.4002 - accuracy: 0.8351\n",
      "Epoch 68/100\n",
      "8000/8000 [==============================] - 1s 183us/step - loss: 0.3997 - accuracy: 0.8363\n",
      "Epoch 69/100\n",
      "8000/8000 [==============================] - 2s 201us/step - loss: 0.4000 - accuracy: 0.8336\n",
      "Epoch 70/100\n",
      "8000/8000 [==============================] - 1s 163us/step - loss: 0.4001 - accuracy: 0.8372\n",
      "Epoch 71/100\n",
      "8000/8000 [==============================] - 2s 222us/step - loss: 0.4006 - accuracy: 0.8355\n",
      "Epoch 72/100\n",
      "8000/8000 [==============================] - 2s 202us/step - loss: 0.4000 - accuracy: 0.8361\n",
      "Epoch 73/100\n",
      "8000/8000 [==============================] - 1s 186us/step - loss: 0.3998 - accuracy: 0.8354\n",
      "Epoch 74/100\n",
      "8000/8000 [==============================] - 1s 187us/step - loss: 0.4004 - accuracy: 0.8361\n",
      "Epoch 75/100\n",
      "8000/8000 [==============================] - 2s 234us/step - loss: 0.4000 - accuracy: 0.8354\n",
      "Epoch 76/100\n",
      "8000/8000 [==============================] - 2s 189us/step - loss: 0.3998 - accuracy: 0.8356\n",
      "Epoch 77/100\n",
      "8000/8000 [==============================] - 1s 185us/step - loss: 0.4000 - accuracy: 0.8346\n",
      "Epoch 78/100\n",
      "8000/8000 [==============================] - 2s 191us/step - loss: 0.4002 - accuracy: 0.8359\n",
      "Epoch 79/100\n",
      "8000/8000 [==============================] - 2s 188us/step - loss: 0.4004 - accuracy: 0.8363\n",
      "Epoch 80/100\n",
      "8000/8000 [==============================] - 2s 189us/step - loss: 0.3997 - accuracy: 0.8345\n",
      "Epoch 81/100\n",
      "8000/8000 [==============================] - 2s 214us/step - loss: 0.4006 - accuracy: 0.8355\n",
      "Epoch 82/100\n",
      "8000/8000 [==============================] - 2s 223us/step - loss: 0.3993 - accuracy: 0.8359\n",
      "Epoch 83/100\n",
      "8000/8000 [==============================] - 2s 192us/step - loss: 0.3997 - accuracy: 0.8349\n",
      "Epoch 84/100\n",
      "8000/8000 [==============================] - 1s 183us/step - loss: 0.4000 - accuracy: 0.8372\n",
      "Epoch 85/100\n",
      "8000/8000 [==============================] - 2s 197us/step - loss: 0.3998 - accuracy: 0.8346\n",
      "Epoch 86/100\n",
      "8000/8000 [==============================] - 2s 189us/step - loss: 0.3998 - accuracy: 0.8347\n",
      "Epoch 87/100\n",
      "8000/8000 [==============================] - 1s 185us/step - loss: 0.3998 - accuracy: 0.8361\n",
      "Epoch 88/100\n",
      "8000/8000 [==============================] - 2s 225us/step - loss: 0.3996 - accuracy: 0.8365\n",
      "Epoch 89/100\n",
      "8000/8000 [==============================] - 2s 220us/step - loss: 0.3991 - accuracy: 0.8355\n",
      "Epoch 90/100\n",
      "8000/8000 [==============================] - 2s 235us/step - loss: 0.3998 - accuracy: 0.8357\n",
      "Epoch 91/100\n",
      "8000/8000 [==============================] - 2s 216us/step - loss: 0.3995 - accuracy: 0.8355\n",
      "Epoch 92/100\n",
      "8000/8000 [==============================] - 2s 203us/step - loss: 0.3995 - accuracy: 0.8363\n",
      "Epoch 93/100\n",
      "8000/8000 [==============================] - 2s 190us/step - loss: 0.3998 - accuracy: 0.8341\n",
      "Epoch 94/100\n",
      "8000/8000 [==============================] - 2s 221us/step - loss: 0.3994 - accuracy: 0.8364\n",
      "Epoch 95/100\n",
      "8000/8000 [==============================] - 2s 221us/step - loss: 0.4000 - accuracy: 0.8336\n",
      "Epoch 96/100\n",
      "8000/8000 [==============================] - 1s 182us/step - loss: 0.3995 - accuracy: 0.8365\n",
      "Epoch 97/100\n",
      "8000/8000 [==============================] - 2s 207us/step - loss: 0.3994 - accuracy: 0.8353\n",
      "Epoch 98/100\n",
      "8000/8000 [==============================] - 2s 194us/step - loss: 0.3993 - accuracy: 0.8361\n",
      "Epoch 99/100\n",
      "8000/8000 [==============================] - 2s 203us/step - loss: 0.3995 - accuracy: 0.8356\n",
      "Epoch 100/100\n",
      "8000/8000 [==============================] - 2s 209us/step - loss: 0.3993 - accuracy: 0.8360\n"
     ]
    },
    {
     "data": {
      "text/plain": [
       "<keras.callbacks.callbacks.History at 0x14343be50>"
      ]
     },
     "execution_count": 26,
     "metadata": {},
     "output_type": "execute_result"
    }
   ],
   "source": [
    "classifier.fit(x_train, y_train, batch_size = 10, nb_epoch = 100)"
   ]
  },
  {
   "cell_type": "code",
   "execution_count": 28,
   "metadata": {},
   "outputs": [],
   "source": [
    "y_pred = classifier.predict(x_test)"
   ]
  },
  {
   "cell_type": "code",
   "execution_count": 31,
   "metadata": {},
   "outputs": [],
   "source": [
    "y_pred = ( y_pred > 0.5 )"
   ]
  },
  {
   "cell_type": "code",
   "execution_count": 33,
   "metadata": {},
   "outputs": [],
   "source": [
    "from sklearn.metrics import confusion_matrix"
   ]
  },
  {
   "cell_type": "code",
   "execution_count": 34,
   "metadata": {},
   "outputs": [],
   "source": [
    "cm = confusion_matrix(y_test, y_pred)"
   ]
  },
  {
   "cell_type": "code",
   "execution_count": 35,
   "metadata": {},
   "outputs": [
    {
     "data": {
      "text/plain": [
       "array([[1537,   58],\n",
       "       [ 253,  152]])"
      ]
     },
     "execution_count": 35,
     "metadata": {},
     "output_type": "execute_result"
    }
   ],
   "source": [
    "cm"
   ]
  },
  {
   "cell_type": "code",
   "execution_count": 36,
   "metadata": {},
   "outputs": [
    {
     "data": {
      "text/plain": [
       "0.8445"
      ]
     },
     "execution_count": 36,
     "metadata": {},
     "output_type": "execute_result"
    }
   ],
   "source": [
    "(1537 + 152) / 2000"
   ]
  },
  {
   "cell_type": "code",
   "execution_count": null,
   "metadata": {},
   "outputs": [],
   "source": []
  }
 ],
 "metadata": {
  "kernelspec": {
   "display_name": "Python 3.7.4 64-bit ('anaconda3': virtualenv)",
   "language": "python",
   "name": "python37464bitanaconda3virtualenvca85018e1bc141ddb16ea88032c88d08"
  },
  "language_info": {
   "codemirror_mode": {
    "name": "ipython",
    "version": 3
   },
   "file_extension": ".py",
   "mimetype": "text/x-python",
   "name": "python",
   "nbconvert_exporter": "python",
   "pygments_lexer": "ipython3",
   "version": "3.7.4"
  }
 },
 "nbformat": 4,
 "nbformat_minor": 2
}
